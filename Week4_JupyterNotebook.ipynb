{
 "cells": [
  {
   "cell_type": "markdown",
   "id": "8cc0d68c-d16c-4b7a-9176-7ae5ece599fd",
   "metadata": {},
   "source": [
    "# My Jupyter Notebook on IBM Watson Studio"
   ]
  },
  {
   "cell_type": "markdown",
   "id": "b31147fb-6459-4c8c-8233-16f9f820df31",
   "metadata": {},
   "source": [
    "**Kin Ning**\n",
    "<br>\n",
    "Current Occupation: Forensic Accountant"
   ]
  },
  {
   "cell_type": "markdown",
   "id": "9b8710e8-f08a-4e2e-a5a2-7f00c29e45b1",
   "metadata": {},
   "source": [
    "*I am interested in data science because it can be used to help detect fraud and identify anomalies and outliers in the data set.*"
   ]
  },
  {
   "cell_type": "markdown",
   "id": "3f959fa4-87b7-4c4d-8446-8a39f07afe41",
   "metadata": {},
   "source": [
    "### The following code tests to see what we get if we add 2 plus 2"
   ]
  },
  {
   "cell_type": "code",
   "execution_count": null,
   "id": "a69ec339-2621-4b5d-94fd-969e479571e6",
   "metadata": {},
   "outputs": [],
   "source": [
    "2+2"
   ]
  },
  {
   "cell_type": "markdown",
   "id": "04a3ab35-184c-4ed4-b319-832013809c9f",
   "metadata": {},
   "source": [
    "The IBM \"What is Data Science?\" course can be found using <a href=\"https://www.coursera.org/learn/what-is-datascience\" target=\"_blank\">this link</a>.\n",
    "<br>\n",
    "***\n",
    "This course can be applied to multiple Specializations or Professional Certificates programs. Completing this course will count towards your learning in any of the following programs:\n",
    "* IBM AI Foundations for Business Specialization\n",
    "* Key Technologies for Business Specialization\n",
    "* IBM Data Science Professional Certificate\n",
    "* Introduction to Data Science Specialization\n",
    "\n",
    "Here is what you will learn:\n",
    "1. Define data science and its importance in today’s data-driven world.\n",
    "2. Summarize  advice given by seasoned data science professionals to data scientists who are just starting out. \n",
    "3. Describe the various paths that can lead to a career in data science.\n",
    "4. Explain why data science is considered the most in-demand job in the 21st century. \n",
    "***"
   ]
  }
 ],
 "metadata": {
  "kernelspec": {
   "display_name": "Python",
   "language": "python",
   "name": "conda-env-python-py"
  },
  "language_info": {
   "codemirror_mode": {
    "name": "ipython",
    "version": 3
   },
   "file_extension": ".py",
   "mimetype": "text/x-python",
   "name": "python",
   "nbconvert_exporter": "python",
   "pygments_lexer": "ipython3",
   "version": "3.7.12"
  }
 },
 "nbformat": 4,
 "nbformat_minor": 5
}
